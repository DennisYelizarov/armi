{
 "cells": [
  {
   "cell_type": "code",
   "execution_count": 1,
   "metadata": {
    "colab": {
     "base_uri": "https://localhost:8080/"
    },
    "id": "MZulQ-7xLX1Z",
    "outputId": "41dca434-be23-44b1-ca87-bfbf84ca95f3"
   },
   "outputs": [
    {
     "name": "stdout",
     "output_type": "stream",
     "text": [
      "hello from a function created within Jupyter.\n"
     ]
    }
   ],
   "source": [
    "from armi.utils import asciimaps\n",
    "\n",
    "asciimaps.HelloWorld()\n",
    "\n"
   ]
  },
  {
   "cell_type": "code",
   "execution_count": 3,
   "metadata": {},
   "outputs": [
    {
     "name": "stdout",
     "output_type": "stream",
     "text": [
      "--2021-12-03 12:37:09--  https://d3js.org/d3.v7.min.js\n",
      "Resolving d3js.org (d3js.org)... 2606:4700:20::681a:61e, 2606:4700:20::681a:71e, 2606:4700:20::ac43:497e, ...\n",
      "Connecting to d3js.org (d3js.org)|2606:4700:20::681a:61e|:443... connected.\n",
      "HTTP request sent, awaiting response... 200 OK\n",
      "Length: unspecified [application/javascript]\n",
      "Saving to: ‘d3.v7.min.js’\n",
      "\n",
      "d3.v7.min.js            [ <=>                ] 268.41K  --.-KB/s    in 0.02s   \n",
      "\n",
      "2021-12-03 12:37:10 (11.1 MB/s) - ‘d3.v7.min.js’ saved [274847]\n",
      "\n"
     ]
    }
   ],
   "source": [
    "!wget https://d3js.org/d3.v7.min.js"
   ]
  },
  {
   "cell_type": "code",
   "execution_count": 20,
   "metadata": {
    "colab": {
     "base_uri": "https://localhost:8080/",
     "height": 221
    },
    "id": "R3pD_b_6xxLD",
    "outputId": "282fde56-65c4-4706-cbae-0665ec8541f8",
    "tags": []
   },
   "outputs": [
    {
     "data": {
      "text/html": [
       "\n",
       "<style>\n",
       "  .inner { font: normal 13px monospace; }\n",
       "  .noshadow {\n",
       "    box-shadow: none;\n",
       "\t}\n",
       "</style>\n",
       "<svg id=\"grid-area\" height=200 width=450></svg>\n",
       "<button style=\"position: absolute; top: 200px; left: 0;\">I do nothing</button>\n",
       "<script id=\"d3jsscript\" src=\"https://d3js.org/d3.v7.min.js\"></script>\n",
       "<script>\n",
       "\n",
       "\n",
       "var script = document.querySelector('#d3jsscript');\n",
       "script.addEventListener('load', function() {\n",
       "\n",
       "const data = [\n",
       "  {x:0,y:0}, {x:0,y:1},\n",
       "  {x:1,y:0}, {x:1,y:1}\n",
       "];\n",
       "\n",
       "var svg = d3.select(\"#grid-area\");\n",
       "\n",
       "\n",
       "var g = svg.selectAll(\"g\").data(data).enter().append(\"g\");\n",
       "\n",
       "g.attr(\"width\", 40).attr(\"height\", 40);\n",
       "\n",
       "g.append(\"rect\")\n",
       "    .attr(\"x\", (d) => d.x * 40)\n",
       "    .attr(\"y\", (d) => d.y * 40)\n",
       "    .attr(\"width\", 40).attr(\"height\", 40)\n",
       "    .attr(\"stroke\", \"black\")\n",
       "    .attr(\"stroke-width\", \"2px\")\n",
       "    .style(\"fill\", \"white\");\n",
       "\n",
       "g.append(\"text\")\n",
       "    .text((d) => `${d.x},${d.y}`)\n",
       "    .attr(\"x\", (d) => d.x * 40)\n",
       "    .attr(\"y\", (d) => d.y * 40)\n",
       "    .attr(\"transform\", \"translate(20,20)\")\n",
       "    .attr(\"dominant-baseline\", \"middle\")\n",
       "    .attr(\"text-anchor\", \"middle\")\n",
       "    .attr(\"class\", \"inner\");\n",
       "\n",
       "\n",
       "\n",
       "});\n",
       "\n",
       "\n",
       "\n",
       "</script>\n"
      ],
      "text/plain": [
       "<IPython.core.display.HTML object>"
      ]
     },
     "metadata": {},
     "output_type": "display_data"
    }
   ],
   "source": [
    "# A simple grid, drawn using svg and d3js.\n",
    "from IPython.display import (display, HTML)\n",
    "display(HTML(\"\"\"\n",
    "<style>\n",
    "  .inner { font: normal 13px monospace; }\n",
    "  .noshadow {\n",
    "    box-shadow: none;\n",
    "\t}\n",
    "</style>\n",
    "<svg id=\"grid-area\" height=200 width=450></svg>\n",
    "<button style=\"position: absolute; top: 200px; left: 0;\">I do nothing</button>\n",
    "<script id=\"d3jsscript\" src=\"https://d3js.org/d3.v7.min.js\"></script>\n",
    "<script>\n",
    "\n",
    "\n",
    "var script = document.querySelector('#d3jsscript');\n",
    "script.addEventListener('load', function() {\n",
    "\n",
    "const data = [\n",
    "  {x:0,y:0}, {x:0,y:1},\n",
    "  {x:1,y:0}, {x:1,y:1}\n",
    "];\n",
    "\n",
    "var svg = d3.select(\"#grid-area\");\n",
    "\n",
    "\n",
    "var g = svg.selectAll(\"g\").data(data).enter().append(\"g\");\n",
    "\n",
    "g.attr(\"width\", 40).attr(\"height\", 40);\n",
    "\n",
    "g.append(\"rect\")\n",
    "    .attr(\"x\", (d) => d.x * 40)\n",
    "    .attr(\"y\", (d) => d.y * 40)\n",
    "    .attr(\"width\", 40).attr(\"height\", 40)\n",
    "    .attr(\"stroke\", \"black\")\n",
    "    .attr(\"stroke-width\", \"2px\")\n",
    "    .style(\"fill\", \"white\");\n",
    "\n",
    "g.append(\"text\")\n",
    "    .text((d) => `${d.x},${d.y}`)\n",
    "    .attr(\"x\", (d) => d.x * 40)\n",
    "    .attr(\"y\", (d) => d.y * 40)\n",
    "    .attr(\"transform\", \"translate(20,20)\")\n",
    "    .attr(\"dominant-baseline\", \"middle\")\n",
    "    .attr(\"text-anchor\", \"middle\")\n",
    "    .attr(\"class\", \"inner\");\n",
    "});\n",
    "</script>\n",
    "\"\"\"))"
   ]
  },
  {
   "cell_type": "code",
   "execution_count": 19,
   "metadata": {},
   "outputs": [
    {
     "data": {
      "text/html": [
       "\n",
       "<html>\n",
       "<head>\n",
       "<script>\n",
       "alert(\"hello\");\n",
       "</script>\n",
       "</head>\n",
       "</html>\n"
      ],
      "text/plain": [
       "<IPython.core.display.HTML object>"
      ]
     },
     "metadata": {},
     "output_type": "display_data"
    }
   ],
   "source": [
    "from IPython.display import (display, HTML)\n",
    "display(HTML(\"\"\"\n",
    "<html>\n",
    "<head>\n",
    "<script>\n",
    "alert(\"hello\");\n",
    "</script>\n",
    "</head>\n",
    "</html>\n",
    "\"\"\"))"
   ]
  },
  {
   "cell_type": "code",
   "execution_count": null,
   "metadata": {},
   "outputs": [],
   "source": []
  }
 ],
 "metadata": {
  "colab": {
   "collapsed_sections": [],
   "name": "armi-libs.ipynb",
   "provenance": []
  },
  "kernelspec": {
   "display_name": "Python 3 (ipykernel)",
   "language": "python",
   "name": "python3"
  },
  "language_info": {
   "codemirror_mode": {
    "name": "ipython",
    "version": 3
   },
   "file_extension": ".py",
   "mimetype": "text/x-python",
   "name": "python",
   "nbconvert_exporter": "python",
   "pygments_lexer": "ipython3",
   "version": "3.9.7"
  }
 },
 "nbformat": 4,
 "nbformat_minor": 4
}
